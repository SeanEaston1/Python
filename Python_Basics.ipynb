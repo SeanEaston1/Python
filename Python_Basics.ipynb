{
 "cells": [
  {
   "cell_type": "markdown",
   "id": "35de1108",
   "metadata": {},
   "source": [
    "# Hello World! program in Python"
   ]
  },
  {
   "cell_type": "code",
   "execution_count": 1,
   "id": "565e336e",
   "metadata": {},
   "outputs": [
    {
     "name": "stdout",
     "output_type": "stream",
     "text": [
      "hello world!\n"
     ]
    }
   ],
   "source": [
    "print(\"hello world!\")"
   ]
  },
  {
   "cell_type": "markdown",
   "id": "696d1103",
   "metadata": {},
   "source": [
    "##### We can write mathematical equations using 'dollar' sign in Jupyter Notebook.\n",
    "$a+b = c$"
   ]
  },
  {
   "cell_type": "markdown",
   "id": "c0e61a21",
   "metadata": {},
   "source": [
    "# Variables"
   ]
  },
  {
   "cell_type": "code",
   "execution_count": 4,
   "id": "2f400af1",
   "metadata": {},
   "outputs": [],
   "source": [
    "x = 2\n",
    "y = 3\n",
    "xy = 7.2"
   ]
  },
  {
   "cell_type": "markdown",
   "id": "1c2f0ca8",
   "metadata": {},
   "source": [
    "##### The 'type()' function is used to know the datatype of the variable."
   ]
  },
  {
   "cell_type": "code",
   "execution_count": 6,
   "id": "a7a249c0",
   "metadata": {},
   "outputs": [
    {
     "name": "stdout",
     "output_type": "stream",
     "text": [
      "<class 'int'>\n"
     ]
    }
   ],
   "source": [
    "print(type(x)) "
   ]
  },
  {
   "cell_type": "code",
   "execution_count": 7,
   "id": "e9e69458",
   "metadata": {},
   "outputs": [
    {
     "name": "stdout",
     "output_type": "stream",
     "text": [
      "<class 'float'>\n"
     ]
    }
   ],
   "source": [
    "print(type(xy))"
   ]
  },
  {
   "cell_type": "markdown",
   "id": "b08b52a5",
   "metadata": {},
   "source": [
    "##### The '%whos' is used to know how many variables are there in our memory. "
   ]
  },
  {
   "cell_type": "code",
   "execution_count": 8,
   "id": "69e81f3c",
   "metadata": {},
   "outputs": [
    {
     "name": "stdout",
     "output_type": "stream",
     "text": [
      "Variable   Type     Data/Info\n",
      "-----------------------------\n",
      "x          int      2\n",
      "xy         float    7.2\n",
      "y          int      3\n"
     ]
    }
   ],
   "source": [
    "%whos "
   ]
  },
  {
   "cell_type": "markdown",
   "id": "3553b8b3",
   "metadata": {},
   "source": [
    "##### We can declare multiple variables at a same time."
   ]
  },
  {
   "cell_type": "code",
   "execution_count": 9,
   "id": "44beb2e4",
   "metadata": {},
   "outputs": [],
   "source": [
    "a,b,c,d = 2.4,3,4.1,5.0 "
   ]
  },
  {
   "cell_type": "code",
   "execution_count": 10,
   "id": "5c6ea6ab",
   "metadata": {},
   "outputs": [
    {
     "name": "stdout",
     "output_type": "stream",
     "text": [
      "Variable   Type     Data/Info\n",
      "-----------------------------\n",
      "a          float    2.4\n",
      "b          int      3\n",
      "c          float    4.1\n",
      "d          float    5.0\n",
      "x          int      2\n",
      "xy         float    7.2\n",
      "y          int      3\n"
     ]
    }
   ],
   "source": [
    "%whos"
   ]
  },
  {
   "cell_type": "markdown",
   "id": "f6b3be7e",
   "metadata": {},
   "source": [
    "##### The 'del' is used to delete a variable."
   ]
  },
  {
   "cell_type": "code",
   "execution_count": 11,
   "id": "6c62cfc4",
   "metadata": {},
   "outputs": [],
   "source": [
    "del xy "
   ]
  },
  {
   "cell_type": "code",
   "execution_count": 12,
   "id": "9f07d8c1",
   "metadata": {},
   "outputs": [
    {
     "name": "stdout",
     "output_type": "stream",
     "text": [
      "Variable   Type     Data/Info\n",
      "-----------------------------\n",
      "a          float    2.4\n",
      "b          int      3\n",
      "c          float    4.1\n",
      "d          float    5.0\n",
      "x          int      2\n",
      "y          int      3\n"
     ]
    }
   ],
   "source": [
    "%whos"
   ]
  },
  {
   "cell_type": "markdown",
   "id": "269b6770",
   "metadata": {},
   "source": [
    "# Operators"
   ]
  },
  {
   "cell_type": "code",
   "execution_count": 13,
   "id": "b2e56654",
   "metadata": {},
   "outputs": [],
   "source": [
    "sumOfAandB = a + b"
   ]
  },
  {
   "cell_type": "code",
   "execution_count": 14,
   "id": "a1e92f6f",
   "metadata": {},
   "outputs": [
    {
     "name": "stdout",
     "output_type": "stream",
     "text": [
      "5.4\n"
     ]
    }
   ],
   "source": [
    "print(sumOfAandB)"
   ]
  },
  {
   "cell_type": "code",
   "execution_count": 15,
   "id": "237c9ad0",
   "metadata": {},
   "outputs": [
    {
     "name": "stdout",
     "output_type": "stream",
     "text": [
      "<class 'float'>\n"
     ]
    }
   ],
   "source": [
    "print(type(sumOfAandB))"
   ]
  },
  {
   "cell_type": "markdown",
   "id": "13750f2d",
   "metadata": {},
   "source": [
    "##### Concatenating two string \"hello\" + \"world\" = \"helloworld\"."
   ]
  },
  {
   "cell_type": "code",
   "execution_count": 17,
   "id": "71808281",
   "metadata": {},
   "outputs": [],
   "source": [
    "s1 = \"hello\"\n",
    "s2 = \"world\""
   ]
  },
  {
   "cell_type": "code",
   "execution_count": 18,
   "id": "e59d2f19",
   "metadata": {},
   "outputs": [
    {
     "name": "stdout",
     "output_type": "stream",
     "text": [
      "helloworld\n"
     ]
    }
   ],
   "source": [
    "print(s1+s2)"
   ]
  },
  {
   "cell_type": "code",
   "execution_count": 21,
   "id": "57063b98",
   "metadata": {},
   "outputs": [
    {
     "data": {
      "text/plain": [
       "3"
      ]
     },
     "execution_count": 21,
     "metadata": {},
     "output_type": "execute_result"
    }
   ],
   "source": [
    "10//3"
   ]
  },
  {
   "cell_type": "markdown",
   "id": "c1ad471b",
   "metadata": {},
   "source": [
    "##### The '_' stores the value of the last result which is not initialised. "
   ]
  },
  {
   "cell_type": "code",
   "execution_count": 22,
   "id": "8fa724e1",
   "metadata": {},
   "outputs": [
    {
     "name": "stdout",
     "output_type": "stream",
     "text": [
      "3\n"
     ]
    }
   ],
   "source": [
    "print(_)"
   ]
  },
  {
   "cell_type": "markdown",
   "id": "5e9b6bcc",
   "metadata": {},
   "source": [
    "##### You cannot initialise a variable starting with a number or a special symbol except '_'."
   ]
  },
  {
   "cell_type": "code",
   "execution_count": 23,
   "id": "ad30ca77",
   "metadata": {},
   "outputs": [
    {
     "ename": "SyntaxError",
     "evalue": "invalid decimal literal (3434516666.py, line 1)",
     "output_type": "error",
     "traceback": [
      "\u001b[0;36m  Cell \u001b[0;32mIn[23], line 1\u001b[0;36m\u001b[0m\n\u001b[0;31m    3x = 4\u001b[0m\n\u001b[0m    ^\u001b[0m\n\u001b[0;31mSyntaxError\u001b[0m\u001b[0;31m:\u001b[0m invalid decimal literal\n"
     ]
    }
   ],
   "source": [
    "3x = 4"
   ]
  },
  {
   "cell_type": "code",
   "execution_count": 24,
   "id": "9cb2de88",
   "metadata": {},
   "outputs": [
    {
     "ename": "SyntaxError",
     "evalue": "invalid syntax. Maybe you meant '==' or ':=' instead of '='? (2698686122.py, line 1)",
     "output_type": "error",
     "traceback": [
      "\u001b[0;36m  Cell \u001b[0;32mIn[24], line 1\u001b[0;36m\u001b[0m\n\u001b[0;31m    @y = 2\u001b[0m\n\u001b[0m     ^\u001b[0m\n\u001b[0;31mSyntaxError\u001b[0m\u001b[0;31m:\u001b[0m invalid syntax. Maybe you meant '==' or ':=' instead of '='?\n"
     ]
    }
   ],
   "source": [
    "@y = 2"
   ]
  },
  {
   "cell_type": "code",
   "execution_count": 25,
   "id": "8ff771ca",
   "metadata": {},
   "outputs": [],
   "source": [
    "_w = 3"
   ]
  },
  {
   "cell_type": "code",
   "execution_count": 26,
   "id": "1add7aa7",
   "metadata": {},
   "outputs": [
    {
     "name": "stdout",
     "output_type": "stream",
     "text": [
      "3\n"
     ]
    }
   ],
   "source": [
    "print(_w)"
   ]
  },
  {
   "cell_type": "markdown",
   "id": "95ffbfea",
   "metadata": {},
   "source": [
    "# Bool Data type"
   ]
  },
  {
   "cell_type": "code",
   "execution_count": 30,
   "id": "7cd9bf25",
   "metadata": {},
   "outputs": [],
   "source": [
    "a = True\n",
    "b = False"
   ]
  },
  {
   "cell_type": "code",
   "execution_count": 31,
   "id": "1c2db492",
   "metadata": {},
   "outputs": [
    {
     "name": "stdout",
     "output_type": "stream",
     "text": [
      "False\n"
     ]
    }
   ],
   "source": [
    "print(a and b)"
   ]
  },
  {
   "cell_type": "code",
   "execution_count": 32,
   "id": "a8455f85",
   "metadata": {},
   "outputs": [
    {
     "name": "stdout",
     "output_type": "stream",
     "text": [
      "True\n"
     ]
    }
   ],
   "source": [
    "print(a or b)"
   ]
  },
  {
   "cell_type": "code",
   "execution_count": 33,
   "id": "5a98fed7",
   "metadata": {},
   "outputs": [
    {
     "data": {
      "text/plain": [
       "False"
      ]
     },
     "execution_count": 33,
     "metadata": {},
     "output_type": "execute_result"
    }
   ],
   "source": [
    "not(a)"
   ]
  },
  {
   "cell_type": "code",
   "execution_count": 34,
   "id": "2e2b09b5",
   "metadata": {},
   "outputs": [
    {
     "data": {
      "text/plain": [
       "True"
      ]
     },
     "execution_count": 34,
     "metadata": {},
     "output_type": "execute_result"
    }
   ],
   "source": [
    "not(b)"
   ]
  },
  {
   "cell_type": "markdown",
   "id": "77d4df4a",
   "metadata": {},
   "source": [
    "##### NOTE: 'and'/'or' are binary operators, they need two variables to operate on whereas 'not' is a unitary operator which needs only one variable to operate on. "
   ]
  },
  {
   "cell_type": "code",
   "execution_count": 35,
   "id": "2583c69f",
   "metadata": {},
   "outputs": [
    {
     "name": "stdout",
     "output_type": "stream",
     "text": [
      "Variable     Type     Data/Info\n",
      "-------------------------------\n",
      "a            bool     True\n",
      "b            bool     False\n",
      "c            float    4.1\n",
      "d            float    5.0\n",
      "s1           str      hello\n",
      "s2           str      world\n",
      "sumOfAandB   float    5.4\n",
      "x            int      2\n",
      "y            int      3\n"
     ]
    }
   ],
   "source": [
    "%whos"
   ]
  },
  {
   "cell_type": "markdown",
   "id": "2c1460ce",
   "metadata": {},
   "source": [
    "# Comparisions"
   ]
  },
  {
   "cell_type": "code",
   "execution_count": 36,
   "id": "971d4775",
   "metadata": {},
   "outputs": [
    {
     "name": "stdout",
     "output_type": "stream",
     "text": [
      "True\n"
     ]
    }
   ],
   "source": [
    "print(2<3)"
   ]
  },
  {
   "cell_type": "code",
   "execution_count": 37,
   "id": "0406ead4",
   "metadata": {},
   "outputs": [],
   "source": [
    "c = 2<3"
   ]
  },
  {
   "cell_type": "code",
   "execution_count": 38,
   "id": "1cdcd496",
   "metadata": {},
   "outputs": [
    {
     "name": "stdout",
     "output_type": "stream",
     "text": [
      "<class 'bool'>\n"
     ]
    }
   ],
   "source": [
    "print(type(2<3))"
   ]
  },
  {
   "cell_type": "code",
   "execution_count": 39,
   "id": "e2f63046",
   "metadata": {},
   "outputs": [
    {
     "data": {
      "text/plain": [
       "False"
      ]
     },
     "execution_count": 39,
     "metadata": {},
     "output_type": "execute_result"
    }
   ],
   "source": [
    "3==3.1"
   ]
  },
  {
   "cell_type": "code",
   "execution_count": 40,
   "id": "0707a48d",
   "metadata": {},
   "outputs": [
    {
     "data": {
      "text/plain": [
       "True"
      ]
     },
     "execution_count": 40,
     "metadata": {},
     "output_type": "execute_result"
    }
   ],
   "source": [
    "3==3.0"
   ]
  },
  {
   "cell_type": "markdown",
   "id": "c5583a51",
   "metadata": {},
   "source": [
    "# Some useful functions"
   ]
  },
  {
   "cell_type": "markdown",
   "id": "37edc64d",
   "metadata": {},
   "source": [
    "##### round( ) function"
   ]
  },
  {
   "cell_type": "code",
   "execution_count": 42,
   "id": "3a18e53c",
   "metadata": {},
   "outputs": [
    {
     "name": "stdout",
     "output_type": "stream",
     "text": [
      "4\n"
     ]
    }
   ],
   "source": [
    "print(round(3.6231))"
   ]
  },
  {
   "cell_type": "code",
   "execution_count": 43,
   "id": "311c0f00",
   "metadata": {},
   "outputs": [
    {
     "name": "stdout",
     "output_type": "stream",
     "text": [
      "4.558\n"
     ]
    }
   ],
   "source": [
    "print(round(4.55842, 3))"
   ]
  },
  {
   "cell_type": "code",
   "execution_count": 44,
   "id": "d5adf1a6",
   "metadata": {},
   "outputs": [
    {
     "name": "stdout",
     "output_type": "stream",
     "text": [
      "4\n"
     ]
    }
   ],
   "source": [
    "print(round(4.5))"
   ]
  },
  {
   "cell_type": "code",
   "execution_count": null,
   "id": "1db8a073",
   "metadata": {},
   "outputs": [],
   "source": [
    "print(round(4.556))"
   ]
  },
  {
   "cell_type": "markdown",
   "id": "d0dcd262",
   "metadata": {},
   "source": [
    "##### divmod(x,y) function"
   ]
  },
  {
   "cell_type": "code",
   "execution_count": null,
   "id": "703f9575",
   "metadata": {},
   "outputs": [],
   "source": [
    "print(\"hello\")"
   ]
  },
  {
   "cell_type": "code",
   "execution_count": null,
   "id": "8839c797",
   "metadata": {},
   "outputs": [],
   "source": []
  }
 ],
 "metadata": {
  "kernelspec": {
   "display_name": "Python 3 (ipykernel)",
   "language": "python",
   "name": "python3"
  },
  "language_info": {
   "codemirror_mode": {
    "name": "ipython",
    "version": 3
   },
   "file_extension": ".py",
   "mimetype": "text/x-python",
   "name": "python",
   "nbconvert_exporter": "python",
   "pygments_lexer": "ipython3",
   "version": "3.11.4"
  }
 },
 "nbformat": 4,
 "nbformat_minor": 5
}
