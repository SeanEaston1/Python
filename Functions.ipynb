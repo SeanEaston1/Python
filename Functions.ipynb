{
 "cells": [
  {
   "cell_type": "markdown",
   "id": "9e6614a8",
   "metadata": {},
   "source": [
    "# Functions"
   ]
  },
  {
   "cell_type": "code",
   "execution_count": 2,
   "id": "143def44",
   "metadata": {},
   "outputs": [],
   "source": [
    "def printSuccess():\n",
    "    print(\"I am done\")\n",
    "    print(\"Send me another task\")"
   ]
  },
  {
   "cell_type": "code",
   "execution_count": 3,
   "id": "829049bd",
   "metadata": {},
   "outputs": [
    {
     "name": "stdout",
     "output_type": "stream",
     "text": [
      "I am done\n",
      "Send me another task\n"
     ]
    }
   ],
   "source": [
    "printSuccess()"
   ]
  },
  {
   "cell_type": "markdown",
   "id": "65498089",
   "metadata": {},
   "source": [
    "### Functions (Doc String) "
   ]
  },
  {
   "cell_type": "code",
   "execution_count": 4,
   "id": "472408f9",
   "metadata": {},
   "outputs": [],
   "source": [
    "def printNothing():\n",
    "    \"\"\" This function does nothing except printing a message\"\"\"\n",
    "    print(\"The task was successful\")"
   ]
  },
  {
   "cell_type": "code",
   "execution_count": 5,
   "id": "99019e14",
   "metadata": {},
   "outputs": [
    {
     "name": "stdout",
     "output_type": "stream",
     "text": [
      "The task was successful\n"
     ]
    }
   ],
   "source": [
    "printNothing()"
   ]
  },
  {
   "cell_type": "code",
   "execution_count": 7,
   "id": "e5c2120a",
   "metadata": {},
   "outputs": [],
   "source": [
    "printNothing?"
   ]
  },
  {
   "cell_type": "markdown",
   "id": "869fc684",
   "metadata": {},
   "source": [
    "### Passing Arguments in Fucntion"
   ]
  },
  {
   "cell_type": "code",
   "execution_count": 1,
   "id": "3ecee3be",
   "metadata": {},
   "outputs": [],
   "source": [
    "def number_squared(number):\n",
    "    print(number**2)"
   ]
  },
  {
   "cell_type": "code",
   "execution_count": 2,
   "id": "27e260c2",
   "metadata": {},
   "outputs": [
    {
     "name": "stdout",
     "output_type": "stream",
     "text": [
      "25\n"
     ]
    }
   ],
   "source": [
    "number_squared(5)"
   ]
  },
  {
   "cell_type": "markdown",
   "id": "dd2530aa",
   "metadata": {},
   "source": [
    "Multiple Arguments in a Function"
   ]
  },
  {
   "cell_type": "code",
   "execution_count": 3,
   "id": "357b0e73",
   "metadata": {},
   "outputs": [],
   "source": [
    "def number_powered(number,power):\n",
    "    print(number**power)"
   ]
  },
  {
   "cell_type": "code",
   "execution_count": 4,
   "id": "d5f60ce7",
   "metadata": {},
   "outputs": [
    {
     "name": "stdout",
     "output_type": "stream",
     "text": [
      "125\n"
     ]
    }
   ],
   "source": [
    "number_powered(5,3)"
   ]
  },
  {
   "cell_type": "markdown",
   "id": "0f32eaa3",
   "metadata": {},
   "source": [
    "### Arbitrary Arguments"
   ]
  },
  {
   "cell_type": "code",
   "execution_count": 8,
   "id": "f07a5a88",
   "metadata": {},
   "outputs": [],
   "source": [
    "def number_args(*number):\n",
    "    print(number[0]*number[1])"
   ]
  },
  {
   "cell_type": "code",
   "execution_count": 9,
   "id": "958710c6",
   "metadata": {},
   "outputs": [
    {
     "name": "stdout",
     "output_type": "stream",
     "text": [
      "30\n"
     ]
    }
   ],
   "source": [
    "number_args(5,6,1,2,8)"
   ]
  },
  {
   "cell_type": "markdown",
   "id": "04047f8e",
   "metadata": {},
   "source": [
    "In case you are defining your tuple already, you can perform some task using * like this -"
   ]
  },
  {
   "cell_type": "code",
   "execution_count": 10,
   "id": "688e4c39",
   "metadata": {},
   "outputs": [],
   "source": [
    "tuple_args = (5,6,7,8,9)"
   ]
  },
  {
   "cell_type": "code",
   "execution_count": 11,
   "id": "2015edbb",
   "metadata": {},
   "outputs": [
    {
     "name": "stdout",
     "output_type": "stream",
     "text": [
      "30\n"
     ]
    }
   ],
   "source": [
    "number_args(*tuple_args)"
   ]
  },
  {
   "cell_type": "markdown",
   "id": "23967d26",
   "metadata": {},
   "source": [
    "### Keyword Arguments"
   ]
  },
  {
   "cell_type": "code",
   "execution_count": 17,
   "id": "a5d68bbc",
   "metadata": {},
   "outputs": [],
   "source": [
    "def number_kwarg(**number):\n",
    "    print('My number is: ' + number['integer'] + ' My other number is: ' + number['integer1'])"
   ]
  },
  {
   "cell_type": "code",
   "execution_count": 18,
   "id": "fd433574",
   "metadata": {},
   "outputs": [
    {
     "name": "stdout",
     "output_type": "stream",
     "text": [
      "My number is: 123 My other number is: 456\n"
     ]
    }
   ],
   "source": [
    "number_kwarg(integer = '123', integer1 = '456')"
   ]
  }
 ],
 "metadata": {
  "kernelspec": {
   "display_name": "Python 3 (ipykernel)",
   "language": "python",
   "name": "python3"
  },
  "language_info": {
   "codemirror_mode": {
    "name": "ipython",
    "version": 3
   },
   "file_extension": ".py",
   "mimetype": "text/x-python",
   "name": "python",
   "nbconvert_exporter": "python",
   "pygments_lexer": "ipython3",
   "version": "3.11.4"
  }
 },
 "nbformat": 4,
 "nbformat_minor": 5
}
