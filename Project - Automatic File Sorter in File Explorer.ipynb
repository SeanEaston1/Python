{
 "cells": [
  {
   "cell_type": "markdown",
   "id": "919b011d",
   "metadata": {},
   "source": [
    "# Automatic File Sorter in File Explorer"
   ]
  },
  {
   "cell_type": "code",
   "execution_count": 1,
   "id": "25e9786a",
   "metadata": {},
   "outputs": [],
   "source": [
    "import os, shutil # OS is used to iteract with the operating system and shutil is used to move a file from one place to another"
   ]
  },
  {
   "cell_type": "code",
   "execution_count": 5,
   "id": "352af382",
   "metadata": {},
   "outputs": [],
   "source": [
    "path = r\"/Users/tanayrajsrivastava/Downloads/\" # r here is used to tell that this is a String"
   ]
  },
  {
   "cell_type": "code",
   "execution_count": 13,
   "id": "34191023",
   "metadata": {},
   "outputs": [],
   "source": [
    "file_name = os.listdir(path) # file_name will have the names of all the files in the downloads"
   ]
  },
  {
   "cell_type": "code",
   "execution_count": 42,
   "id": "bd71ec43",
   "metadata": {},
   "outputs": [
    {
     "data": {
      "text/plain": [
       "True"
      ]
     },
     "execution_count": 42,
     "metadata": {},
     "output_type": "execute_result"
    }
   ],
   "source": [
    "os.path.exists(path + 'PDF Files') "
   ]
  },
  {
   "cell_type": "code",
   "execution_count": 43,
   "id": "765bf58c",
   "metadata": {},
   "outputs": [],
   "source": [
    "# Making folders\n",
    "\n",
    "folder_names = [\"PDF Files\", \"CSV Files\", \"PNG Files\", \"DMG Files\", \"JPG Files\", \"PPTX Files\", \"DOC Files\", \"GIF Files\"]\n",
    "\n",
    "for i in range(0,8):\n",
    "    if not os.path.exists(path + folder_names[i]): # if the folder does not exists \n",
    "        print(path + folder_names[i])\n",
    "        os.makedirs(path + folder_names[i]) # then make a new folder named as folder_names[i]"
   ]
  },
  {
   "cell_type": "code",
   "execution_count": 44,
   "id": "fb2c92dd",
   "metadata": {},
   "outputs": [],
   "source": [
    "# For sorting every file\n",
    "\n",
    "for file in file_name:\n",
    "    if \".csv\" in file and not os.path.exists(path + \"csv files/\" + file): # if a '.csv' file exists inside the downloads folder and not inside the CSV Files folder\n",
    "        shutil.move(path + file, path + \"csv files/\" + file) # then move that file from downloads folder to the CSV Files folder\n",
    "    \n",
    "    if \".pdf\" in file and not os.path.exists(path + \"PDF Files/\" + file):\n",
    "        shutil.move(path + file, path + \"PDF Files/\" + file)\n",
    "    \n",
    "    if \".png\" in file and not os.path.exists(path + \"PNG Files/\" + file):\n",
    "        shutil.move(path + file, path + \"PNG Files/\" + file)\n",
    "    \n",
    "    if \".dmg\" in file and not os.path.exists(path + \"DMG Files/\" + file):\n",
    "        shutil.move(path + file, path + \"DMG Files/\" + file)\n",
    "    \n",
    "    if \".jpg\" in file and not os.path.exists(path + \"JPG Files/\" + file):\n",
    "        shutil.move(path + file, path + \"JPG Files/\" + file)\n",
    "    if \".jpeg\" in file and not os.path.exists(path + \"JPG Files/\" + file):\n",
    "        shutil.move(path + file, path + \"JPG Files/\" + file)\n",
    "    \n",
    "    if \".pptx\" in file and not os.path.exists(path + \"PPTX Files/\" + file):\n",
    "        shutil.move(path + file, path + \"PPTX Files/\" + file)\n",
    "    if \".ppt\" in file and not os.path.exists(path + \"PPTX Files/\" + file):\n",
    "        shutil.move(path + file, path + \"PPTX Files/\" + file)\n",
    "    \n",
    "    if \".doc\" in file and not os.path.exists(path + \"DOC Files/\" + file):\n",
    "        shutil.move(path + file, path + \"DOC Files/\" + file)\n",
    "    \n",
    "    if \".gif\" in file and not os.path.exists(path + \"GIF Files/\" + file):\n",
    "        shutil.move(path + file, path + \"GIF Files/\" + file)"
   ]
  }
 ],
 "metadata": {
  "kernelspec": {
   "display_name": "Python 3 (ipykernel)",
   "language": "python",
   "name": "python3"
  },
  "language_info": {
   "codemirror_mode": {
    "name": "ipython",
    "version": 3
   },
   "file_extension": ".py",
   "mimetype": "text/x-python",
   "name": "python",
   "nbconvert_exporter": "python",
   "pygments_lexer": "ipython3",
   "version": "3.11.4"
  }
 },
 "nbformat": 4,
 "nbformat_minor": 5
}
