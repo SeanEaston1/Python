{
 "cells": [
  {
   "cell_type": "markdown",
   "id": "db4d47b1",
   "metadata": {},
   "source": [
    "# BMI Calculator\n",
    "\n",
    "$ BMI = weight(kgs) / height^2(meters) $\n",
    "\n",
    "Under 18.5 » Underweight » Minimal\n",
    "18.5 - 24.9 » Normal Weight » Minimal\n",
    "25 - 29.9 » Overweight » Increased\n",
    "30 - 34.9 » Obese » High\n",
    "35 - 39.9 » Severely Obese » Very High\n",
    "40 and over » Morbidly Obese » Extremely High\n",
    "\n",
    "https://familydoctor.org/bmi-calculator/"
   ]
  },
  {
   "cell_type": "code",
   "execution_count": 22,
   "id": "a28138d7",
   "metadata": {},
   "outputs": [
    {
     "name": "stdout",
     "output_type": "stream",
     "text": [
      "Enter your name: Bhuwan\n",
      "Enter your weight in kgs: 116\n",
      "Enter your height in meters: 1.78\n",
      "Your BMI is:  37\n",
      "Bhuwan is Severely Obese » Very High Health Risk\n"
     ]
    }
   ],
   "source": [
    "name = input(\"Enter your name: \")\n",
    "\n",
    "weight = float(input(\"Enter your weight in kgs: \"))\n",
    "\n",
    "height = float(input(\"Enter your height in meters: \"))\n",
    "\n",
    "bmi = (weight)/(height*height)\n",
    "\n",
    "print(\"Your BMI is: \",round(bmi))\n",
    "\n",
    "if bmi<18.5:\n",
    "    print(name + \" is Underweight » Minimal Health Risk\")\n",
    "elif bmi<24.9:\n",
    "    print(name + \" is Normal Weight » Minimal Health Risk\")\n",
    "elif bmi<29.9:\n",
    "    print(name + \" is Overweight » Increased Health Risk\")\n",
    "elif bmi<34.9:\n",
    "    print(name + \" is Obese » High Health Risk\")\n",
    "elif bmi<39.9:\n",
    "    print(name + \" is Severely Obese » Very High Health Risk\")\n",
    "elif bmi>40:\n",
    "    print(name + \" is Morbidly Obese » Extremely High Health Risk\")"
   ]
  }
 ],
 "metadata": {
  "kernelspec": {
   "display_name": "Python 3 (ipykernel)",
   "language": "python",
   "name": "python3"
  },
  "language_info": {
   "codemirror_mode": {
    "name": "ipython",
    "version": 3
   },
   "file_extension": ".py",
   "mimetype": "text/x-python",
   "name": "python",
   "nbconvert_exporter": "python",
   "pygments_lexer": "ipython3",
   "version": "3.11.4"
  }
 },
 "nbformat": 4,
 "nbformat_minor": 5
}
