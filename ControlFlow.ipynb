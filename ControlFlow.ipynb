{
 "cells": [
  {
   "cell_type": "markdown",
   "id": "50ae503f",
   "metadata": {},
   "source": [
    "# Control Flow (if/else conditions)"
   ]
  },
  {
   "cell_type": "markdown",
   "id": "b1dbda71",
   "metadata": {},
   "source": [
    "##### Using the if condition"
   ]
  },
  {
   "cell_type": "code",
   "execution_count": 1,
   "id": "161fdd54",
   "metadata": {},
   "outputs": [
    {
     "name": "stdout",
     "output_type": "stream",
     "text": [
      "Enter a number: 2\n"
     ]
    }
   ],
   "source": [
    "a = int(input(\"Enter a number: \"))"
   ]
  },
  {
   "cell_type": "code",
   "execution_count": 2,
   "id": "5f22ff88",
   "metadata": {},
   "outputs": [
    {
     "name": "stdout",
     "output_type": "stream",
     "text": [
      "Enter a number: 4\n"
     ]
    }
   ],
   "source": [
    "b = int(input(\"Enter a number: \"))"
   ]
  },
  {
   "cell_type": "code",
   "execution_count": 4,
   "id": "9b0a67e2",
   "metadata": {},
   "outputs": [
    {
     "name": "stdout",
     "output_type": "stream",
     "text": [
      "I am outside the if condition\n"
     ]
    }
   ],
   "source": [
    "if a>b:\n",
    "    print(a)\n",
    "    print(\"I am still inside the if condition\")\n",
    "print(\"I am outside the if condition\")"
   ]
  },
  {
   "cell_type": "code",
   "execution_count": 5,
   "id": "3b697dca",
   "metadata": {},
   "outputs": [
    {
     "name": "stdout",
     "output_type": "stream",
     "text": [
      "2\n",
      "I am still inside the if condition\n",
      "I am outside the if condition\n"
     ]
    }
   ],
   "source": [
    "if a<b:\n",
    "    print(a)\n",
    "    print(\"I am still inside the if condition\")\n",
    "print(\"I am outside the if condition\")"
   ]
  },
  {
   "cell_type": "markdown",
   "id": "857e314b",
   "metadata": {},
   "source": [
    "##### Using two if conditions"
   ]
  },
  {
   "cell_type": "code",
   "execution_count": 1,
   "id": "6000715b",
   "metadata": {},
   "outputs": [
    {
     "name": "stdout",
     "output_type": "stream",
     "text": [
      "Enter something : 12\n"
     ]
    }
   ],
   "source": [
    "x = int(input(\"Enter something : \"))"
   ]
  },
  {
   "cell_type": "code",
   "execution_count": 2,
   "id": "b848797a",
   "metadata": {},
   "outputs": [
    {
     "name": "stdout",
     "output_type": "stream",
     "text": [
      "Enter something : 11\n"
     ]
    }
   ],
   "source": [
    "y = int(input(\"Enter something : \"))"
   ]
  },
  {
   "cell_type": "code",
   "execution_count": 3,
   "id": "945ab81d",
   "metadata": {},
   "outputs": [
    {
     "name": "stdout",
     "output_type": "stream",
     "text": [
      "12\n"
     ]
    }
   ],
   "source": [
    "if x>y:\n",
    "    print(x)\n",
    "if x<y:\n",
    "    print(y)"
   ]
  },
  {
   "cell_type": "markdown",
   "id": "fb07c758",
   "metadata": {},
   "source": [
    "##### Using the if-else conditions"
   ]
  },
  {
   "cell_type": "code",
   "execution_count": 5,
   "id": "e4160e14",
   "metadata": {},
   "outputs": [
    {
     "name": "stdout",
     "output_type": "stream",
     "text": [
      "2\n"
     ]
    }
   ],
   "source": [
    "x = int(input())"
   ]
  },
  {
   "cell_type": "code",
   "execution_count": 6,
   "id": "d06b02fb",
   "metadata": {},
   "outputs": [
    {
     "name": "stdout",
     "output_type": "stream",
     "text": [
      "3\n"
     ]
    }
   ],
   "source": [
    "y = int(input())"
   ]
  },
  {
   "cell_type": "code",
   "execution_count": 7,
   "id": "59bbdd8c",
   "metadata": {},
   "outputs": [
    {
     "name": "stdout",
     "output_type": "stream",
     "text": [
      "3\n"
     ]
    }
   ],
   "source": [
    "if x>y:\n",
    "    print(x)\n",
    "else:\n",
    "    print(y)"
   ]
  },
  {
   "cell_type": "markdown",
   "id": "3a85149b",
   "metadata": {},
   "source": [
    "##### Using the if-elif-else conditions"
   ]
  },
  {
   "cell_type": "code",
   "execution_count": 8,
   "id": "98e98b88",
   "metadata": {},
   "outputs": [
    {
     "name": "stdout",
     "output_type": "stream",
     "text": [
      "11\n"
     ]
    }
   ],
   "source": [
    "x = int(input())"
   ]
  },
  {
   "cell_type": "code",
   "execution_count": 11,
   "id": "312cb8a6",
   "metadata": {},
   "outputs": [
    {
     "name": "stdout",
     "output_type": "stream",
     "text": [
      "11\n"
     ]
    }
   ],
   "source": [
    "y = int(input())"
   ]
  },
  {
   "cell_type": "code",
   "execution_count": 12,
   "id": "ebddda09",
   "metadata": {},
   "outputs": [
    {
     "name": "stdout",
     "output_type": "stream",
     "text": [
      "Both are equal\n"
     ]
    }
   ],
   "source": [
    "if x>y:\n",
    "    print(x)\n",
    "elif x==y:\n",
    "    print(\"Both are equal\")\n",
    "else:\n",
    "    print(y)"
   ]
  },
  {
   "cell_type": "markdown",
   "id": "0eb64417",
   "metadata": {},
   "source": [
    "##### Short hand if"
   ]
  },
  {
   "cell_type": "code",
   "execution_count": 14,
   "id": "48d89d49",
   "metadata": {},
   "outputs": [
    {
     "name": "stdout",
     "output_type": "stream",
     "text": [
      "B\n"
     ]
    }
   ],
   "source": [
    "a = 9\n",
    "b = 10\n",
    "print(\"A\") if a>b else print(\"=\") if a==b else print(\"B\")"
   ]
  },
  {
   "cell_type": "markdown",
   "id": "76e1ef39",
   "metadata": {},
   "source": [
    "##### Examples:"
   ]
  },
  {
   "cell_type": "code",
   "execution_count": 17,
   "id": "54fa9b30",
   "metadata": {},
   "outputs": [
    {
     "name": "stdout",
     "output_type": "stream",
     "text": [
      "Enter the marks: 64\n",
      "Grade A\n"
     ]
    }
   ],
   "source": [
    "m = int(input(\"Enter the marks: \"))\n",
    "if m >= 60:\n",
    "    print(\"Grade A\")\n",
    "elif 60 > m >= 30:\n",
    "    print(\"Grade B\")\n",
    "else:\n",
    "    print(\"Grade C\")"
   ]
  },
  {
   "cell_type": "markdown",
   "id": "4be700b4",
   "metadata": {},
   "source": [
    "##### Nested if conditions"
   ]
  },
  {
   "cell_type": "code",
   "execution_count": 19,
   "id": "ec85b811",
   "metadata": {},
   "outputs": [
    {
     "name": "stdout",
     "output_type": "stream",
     "text": [
      "Enter a number : 23\n",
      "Your Number is above ten, \n",
      "and also above 20.\n"
     ]
    }
   ],
   "source": [
    "x = int(input(\"Enter a number : \"))\n",
    "\n",
    "if x > 10:\n",
    "    print(\"Your Number is above ten, \")\n",
    "    if x > 20:\n",
    "        print (\"and also above 20.\")\n",
    "    else:\n",
    "        print (\"but not above 20.\")"
   ]
  },
  {
   "cell_type": "code",
   "execution_count": 23,
   "id": "f174da3b",
   "metadata": {},
   "outputs": [
    {
     "name": "stdout",
     "output_type": "stream",
     "text": [
      "33\n",
      ">10\n",
      "Inside the top if\n",
      ">20\n",
      "Inside the nested if\n",
      ">30\n",
      "inside the nested if of nested if\n",
      "Outside all ifs\n"
     ]
    }
   ],
   "source": [
    "a = int(input())\n",
    "\n",
    "if a>10:\n",
    "    print(\">10\")\n",
    "    print(\"Inside the top if\")\n",
    "    if a>20:\n",
    "        print(\">20\")\n",
    "        print(\"Inside the nested if\")\n",
    "        if a>30:\n",
    "            print(\">30\")\n",
    "            print(\"inside the nested if of nested if\")\n",
    "        else:\n",
    "            print(\"＜=30\")\n",
    "            print(\"inside the else part of nested if of nested if\")\n",
    "    else:\n",
    "        print(\"<=20\")\n",
    "        print(\"Inside the else part of nested if\")\n",
    "print(\"Outside all ifs\")"
   ]
  },
  {
   "cell_type": "markdown",
   "id": "36213f31",
   "metadata": {},
   "source": [
    "### Question to sum up everything till now\n",
    "\n",
    "User will enter a floating point number let say 238.915. \n",
    "Your task is to find out the integer portion before the point (in this case 238) and then check if that integer portion is an even number or not?"
   ]
  },
  {
   "cell_type": "code",
   "execution_count": 1,
   "id": "ecdbf3da",
   "metadata": {},
   "outputs": [
    {
     "name": "stdout",
     "output_type": "stream",
     "text": [
      "Enter the number: 238.915\n",
      "It is an even number\n"
     ]
    }
   ],
   "source": [
    "num = float(input(\"Enter the number: \"))\n",
    "num = int(num)\n",
    "\n",
    "if num%2==0:\n",
    "    print(\"It is an even number\")\n",
    "else:\n",
    "    print(\"Is is not an even number or it is an odd number\")"
   ]
  },
  {
   "cell_type": "markdown",
   "id": "3f7bd7aa",
   "metadata": {},
   "source": [
    "# Control Flow (Loops)"
   ]
  },
  {
   "cell_type": "code",
   "execution_count": 19,
   "id": "b4bf6f93",
   "metadata": {},
   "outputs": [
    {
     "name": "stdout",
     "output_type": "stream",
     "text": [
      "Max iterations: 5\n",
      "1\n",
      "This is iteration number: 1\n",
      "2\n",
      "This is iteration number: 2\n",
      "3\n",
      "This is iteration number: 3\n",
      "4\n",
      "This is iteration number: 4\n",
      "done\n"
     ]
    }
   ],
   "source": [
    "n = int(input(\"Max iterations: \"))\n",
    "i = 1\n",
    "\n",
    "while i<n :\n",
    "    print(i)\n",
    "    print(\"This is iteration number:\", i)\n",
    "    i += 1\n",
    "print('done')"
   ]
  },
  {
   "cell_type": "markdown",
   "id": "ff9b9a9b",
   "metadata": {},
   "source": [
    "##### Using 'pass' statement"
   ]
  },
  {
   "cell_type": "code",
   "execution_count": 18,
   "id": "b006bbff",
   "metadata": {},
   "outputs": [
    {
     "name": "stdout",
     "output_type": "stream",
     "text": [
      "2\n",
      "4\n",
      "6\n",
      "8\n",
      "done\n"
     ]
    }
   ],
   "source": [
    "n=10\n",
    "i=1\n",
    "\n",
    "while i<n:\n",
    "    if i%2 == 0:\n",
    "        print(i)\n",
    "    else:\n",
    "        pass # do nothing\n",
    "    i += 1\n",
    "print(\"done\")"
   ]
  },
  {
   "cell_type": "markdown",
   "id": "82c5d3ba",
   "metadata": {},
   "source": [
    "##### Using 'break' and 'continue' statement"
   ]
  },
  {
   "cell_type": "code",
   "execution_count": 32,
   "id": "af0e1c02",
   "metadata": {},
   "outputs": [
    {
     "name": "stdout",
     "output_type": "stream",
     "text": [
      "break\n",
      "Done\n"
     ]
    }
   ],
   "source": [
    "i = 1\n",
    "while True:\n",
    "    if i%17 == 0:\n",
    "        print(\"break\")\n",
    "        break # it will exit the loop\n",
    "    else:\n",
    "        i+=1\n",
    "        continue # it will skip all the below statements and will start the next iteration\n",
    "    print(\"I am still inside the loop\")\n",
    "print(\"Done\")"
   ]
  },
  {
   "cell_type": "markdown",
   "id": "d9eeeb58",
   "metadata": {},
   "source": [
    "## For loop"
   ]
  },
  {
   "cell_type": "code",
   "execution_count": 36,
   "id": "d46aaec7",
   "metadata": {},
   "outputs": [
    {
     "name": "stdout",
     "output_type": "stream",
     "text": [
      "1\n",
      "2\n",
      "3\n",
      "4\n",
      "5\n",
      "6\n",
      "7\n",
      "8\n",
      "9\n",
      "10\n",
      "[0, 1, 4, 9, 16, 25, 36, 49, 64, 81]\n"
     ]
    }
   ],
   "source": [
    "L = []\n",
    "for i in range(10):\n",
    "    print(i+1)\n",
    "    L.append(i**2)\n",
    "print(L)"
   ]
  },
  {
   "cell_type": "markdown",
   "id": "2a835682",
   "metadata": {},
   "source": [
    "##### To change the start, end and steps to jump we can have"
   ]
  },
  {
   "cell_type": "code",
   "execution_count": 41,
   "id": "6f95adbc",
   "metadata": {},
   "outputs": [
    {
     "name": "stdout",
     "output_type": "stream",
     "text": [
      "0\n",
      "2\n",
      "4\n",
      "6\n",
      "8\n",
      "[0, 4, 16, 36, 64]\n"
     ]
    }
   ],
   "source": [
    "L = []\n",
    "for i in range(0,10,2): # Here, 0: i=0 , 10: i<10 , 2: i+=2\n",
    "    print(i)\n",
    "    L.append(i**2)\n",
    "print(L)"
   ]
  },
  {
   "cell_type": "code",
   "execution_count": 61,
   "id": "5255692d",
   "metadata": {},
   "outputs": [
    {
     "name": "stdout",
     "output_type": "stream",
     "text": [
      "apple\n",
      "cherry\n",
      "4.9\n",
      "Loop completes its iteration\n",
      "Outside the loop\n"
     ]
    }
   ],
   "source": [
    "S = {'apple',4.9,'cherry'}\n",
    "for x in S:\n",
    "    print(x)\n",
    "else:\n",
    "    print(\"Loop completes its iteration\")\n",
    "print(\"Outside the loop\")"
   ]
  },
  {
   "cell_type": "code",
   "execution_count": 62,
   "id": "b15d5369",
   "metadata": {},
   "outputs": [
    {
     "name": "stdout",
     "output_type": "stream",
     "text": [
      "apple\n",
      "cherry\n",
      "Outside the loop\n"
     ]
    }
   ],
   "source": [
    "S = {\"apple\",4.9,\"cherry\"}\n",
    "i = 1\n",
    "for x in S:\n",
    "    print(x)\n",
    "    i+=1\n",
    "    if i == 3:\n",
    "        break # When the break statement is performed the else block of for loop is not executed\n",
    "    else:\n",
    "        pass\n",
    "else:\n",
    "    print(\"Loop completes its iteration\")\n",
    "print(\"Outside the loop\")"
   ]
  },
  {
   "cell_type": "code",
   "execution_count": 1,
   "id": "65aa117c",
   "metadata": {},
   "outputs": [
    {
     "name": "stdout",
     "output_type": "stream",
     "text": [
      "A 44\n",
      "B -22\n",
      "C abc\n"
     ]
    }
   ],
   "source": [
    "D = {\"A\": 44, \"B\": -22, \"C\": \"abc\"}\n",
    "for x in D:\n",
    "    print(x, D[x])"
   ]
  },
  {
   "cell_type": "markdown",
   "id": "4d2b4ec4",
   "metadata": {},
   "source": [
    "### Practicing For Loop\n",
    "Given a list of numbers i.e. [1,2,4,-5,7,9,3,2], make another list that contains all the items in sorted order from min to max. i.e. your result will be another list like \n",
    "[-5,1,2,2,3,4,7,9]"
   ]
  },
  {
   "cell_type": "code",
   "execution_count": 18,
   "id": "4b67ef70",
   "metadata": {},
   "outputs": [
    {
     "name": "stdout",
     "output_type": "stream",
     "text": [
      "[-5, 1, 2, 2, 3, 4, 7, 9]\n"
     ]
    }
   ],
   "source": [
    "L = [1,2,4,-5,7,9,3,2]\n",
    "for j in range(len(L)):\n",
    "    m = L[j]\n",
    "    count = j\n",
    "    indx = j\n",
    "    for i in range(j, len(L)):\n",
    "        if L[i]<m:\n",
    "            m = L[i]\n",
    "            indx = count\n",
    "        count+=1\n",
    "    temp = L[j]\n",
    "    L[j] = m\n",
    "    L[indx] = temp\n",
    "print(L)"
   ]
  },
  {
   "cell_type": "code",
   "execution_count": null,
   "id": "2dac5c80",
   "metadata": {},
   "outputs": [],
   "source": []
  }
 ],
 "metadata": {
  "kernelspec": {
   "display_name": "Python 3 (ipykernel)",
   "language": "python",
   "name": "python3"
  },
  "language_info": {
   "codemirror_mode": {
    "name": "ipython",
    "version": 3
   },
   "file_extension": ".py",
   "mimetype": "text/x-python",
   "name": "python",
   "nbconvert_exporter": "python",
   "pygments_lexer": "ipython3",
   "version": "3.11.4"
  }
 },
 "nbformat": 4,
 "nbformat_minor": 5
}
