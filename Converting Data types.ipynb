{
 "cells": [
  {
   "cell_type": "code",
   "execution_count": 1,
   "id": "42af0b97",
   "metadata": {},
   "outputs": [],
   "source": [
    "num_int = 12"
   ]
  },
  {
   "cell_type": "code",
   "execution_count": 2,
   "id": "bf8d7698",
   "metadata": {},
   "outputs": [],
   "source": [
    "num_str = '8'"
   ]
  },
  {
   "cell_type": "code",
   "execution_count": 4,
   "id": "fcd60551",
   "metadata": {},
   "outputs": [
    {
     "name": "stdout",
     "output_type": "stream",
     "text": [
      "20\n"
     ]
    }
   ],
   "source": [
    "num_sum = num_int + int(num_str)  # We can use int() to change the data type from String to int\n",
    "\n",
    "print(num_sum)"
   ]
  },
  {
   "cell_type": "markdown",
   "id": "28411836",
   "metadata": {},
   "source": [
    "Now let's change list data type to sets"
   ]
  },
  {
   "cell_type": "code",
   "execution_count": 6,
   "id": "ffb81150",
   "metadata": {},
   "outputs": [
    {
     "name": "stdout",
     "output_type": "stream",
     "text": [
      "[1, 2, 3, 3, 3, 3, 3, 3, 3, 2, 2, 2, 2, 1, 1, 1, 1, 1]\n"
     ]
    }
   ],
   "source": [
    "list_type = [1,2,3,3,3,3,3,3,3,2,2,2,2,1,1,1,1,1]\n",
    "\n",
    "print(list_type)"
   ]
  },
  {
   "cell_type": "code",
   "execution_count": 7,
   "id": "74a2b4a2",
   "metadata": {},
   "outputs": [
    {
     "name": "stdout",
     "output_type": "stream",
     "text": [
      "{1, 2, 3}\n"
     ]
    }
   ],
   "source": [
    "print(set(list_type)) # The data type is changed to set where set contains only unique values"
   ]
  },
  {
   "cell_type": "markdown",
   "id": "33d5992c",
   "metadata": {},
   "source": [
    "Now let's change the long string data type to list which could be useful"
   ]
  },
  {
   "cell_type": "code",
   "execution_count": 15,
   "id": "17032f88",
   "metadata": {},
   "outputs": [
    {
     "name": "stdout",
     "output_type": "stream",
     "text": [
      "The list is  ['I', ' ', 'a', 'm', ' ', 'T', 'a', 'n', 'a', 'y']\n",
      "The set is  {'m', 'y', ' ', 'n', 'a', 'I', 'T'}\n"
     ]
    }
   ],
   "source": [
    "long_str = 'I am Tanay'\n",
    "\n",
    "print('The list is ',list(long_str))\n",
    "\n",
    "print('The set is ',set(long_str))\n",
    "\n",
    " # We can convert it into set for more uniques values"
   ]
  }
 ],
 "metadata": {
  "kernelspec": {
   "display_name": "Python 3 (ipykernel)",
   "language": "python",
   "name": "python3"
  },
  "language_info": {
   "codemirror_mode": {
    "name": "ipython",
    "version": 3
   },
   "file_extension": ".py",
   "mimetype": "text/x-python",
   "name": "python",
   "nbconvert_exporter": "python",
   "pygments_lexer": "ipython3",
   "version": "3.11.4"
  }
 },
 "nbformat": 4,
 "nbformat_minor": 5
}
